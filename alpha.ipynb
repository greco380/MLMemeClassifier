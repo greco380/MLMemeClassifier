{
 "cells": [
  {
   "cell_type": "code",
   "execution_count": 12,
   "metadata": {
    "collapsed": true,
    "pycharm": {
     "is_executing": false
    }
   },
   "outputs": [
    {
     "name": "stdout",
     "text": [
      "['rstai63.jpg', 'dbf451.jpg', 'rstai93.jpg', 'itap82.jpg', 'cmm54.jpg', 'wyac104.jpg', 'rstai240.jpg', 'sp5.jpg', 'wyac110.jpg', 'dbf269.jpg', 'wyac62.jpg', 'sp21.jpg', 'cmm7.jpg', 'cmm48.jpg', 'rstai259.jpg', 'cmm77.jpg', 'dbf291.jpg', 'rstai221.jpg', 'sp15.jpg', 'sp129.jpg', 'itap313.jpg', 'sp62.jpg', 'dbf390.jpg', 'sp1.jpg', 'dbf382.jpg', 'cmm44.jpg', 'itap162.jpg', 'dbf461.jpg', 'rstai49.jpg', 'dbf285.jpg', 'rstai258.jpg', 'wyac68.jpg', 'itap96.jpg', 'itap93.jpg', 'wyac112.jpg', 'cmm117.jpg', 'sp111.jpg', 'rstai267.jpg', 'cmm131.jpg', 'dbf149.jpg', 'dbf85.jpg', 'rstai220.jpg', 'wyac156.jpg', 'dbf371.jpg', 'rstai182.jpg', 'dbf35.jpg', 'dbf405.jpg', 'wyac152.jpg', 'dbf462.jpg', 'dbf62.jpg', 'itap305.jpg', 'dbf301.jpg', 'wyac108.jpg', 'dbf288.jpg', 'sp63.jpg', 'wyac41.jpg', 'dbf305.jpg', 'dbf353.jpg', 'rstai249.jpg', 'sp43.jpg', 'wyac83.jpg', 'dbf34.jpg', 'dbf388.jpg', 'cmm92.jpg', 'dbf206.jpg', 'dbf356.jpg', 'dbf434.jpg', 'itap285.jpg', 'rstai232.jpg', 'cmm88.jpg', 'dbf321.jpg', 'dbf338.jpg', 'sp70.jpg', 'dbf429.jpg', 'itap26.jpg', 'rstai77.jpg', 'sp57.jpg', 'sp35.jpg', 'cmm60.jpg', 'dbf430.jpg', 'rstai247.jpg', 'wyac37.jpg', 'cmm84.jpg', 'sp28.jpg', 'itap169.jpg', 'itap48.jpg', 'dbf369.jpg', 'itap98.jpg', 'rstai87.jpg', 'itap32.jpg', 'dbf165.jpg', 'rstai199.jpg', 'rstai13.jpg', 'itap22.jpg', 'itap308.jpg', 'dbf348.jpg', 'dbf101.jpg', 'dbf284.jpg', 'rstai58.jpg', 'dbf251.jpg', 'dbf337.jpg', 'wyac148.jpg', 'sp77.jpg', 'dbf222.jpg', 'itap180.jpg', 'itap144.jpg', 'dbf404.jpg', 'itap155.jpg', 'dbf398.jpg', 'itap311.jpg', 'itap292.jpg', 'dbf194.jpg', 'itap347.jpg', 'rstai162.jpg', 'rstai251.jpg', 'dbf76.jpg', 'itap233.jpg', 'wyac78.jpg', 'rstai246.jpg', 'dbf25.jpg', 'rstai238.jpg', 'itap348.jpg', 'wyac179.jpg', 'itap8.jpg', 'wyac159.jpg', 'sp120.jpg', 'dbf355.jpg', 'itap297.jpg', 'dbf402.jpg', 'dbf453.jpg', 'rstai26.jpg', 'rstai121.jpg', 'wyac63.jpg', 'cmm151.jpg', 'dbf163.jpg', 'itap140.jpg', 'itap269.jpg', 'cmm141.jpg', 'cmm9.jpg', 'rstai271.jpg', 'rstai284.jpg', 'itap367.jpg', 'dbf102.jpg', 'sp56.jpg', 'wyac163.jpg', 'cmm144.jpg', 'dbf207.jpg', 'rstai9.jpg', 'rstai130.jpg', 'cmm51.jpg', 'wyac27.jpg', 'rstai44.jpg', 'wyac31.jpg', 'wyac129.jpg', 'wyac64.jpg', 'wyac8.jpg', 'wyac52.jpg', 'dbf192.jpg', 'dbf263.jpg', 'itap264.jpg', 'cmm11.jpg', 'wyac16.jpg', 'itap296.jpg', 'wyac44.jpg', 'itap160.jpg', 'dbf255.jpg', 'dbf96.jpg', 'wyac39.jpg', 'wyac124.jpg', 'cmm38.jpg', 'sp59.jpg', 'wyac130.jpg', 'sp12.jpg', 'rstai67.jpg', 'dbf449.jpg', 'rstai181.jpg', 'cmm102.jpg', 'dbf435.jpg', 'wyac164.jpg', 'itap28.jpg', 'rstai89.jpg', 'cmm91.jpg', 'sp9.jpg', 'itap323.jpg', 'rstai20.jpg', 'rstai188.jpg', 'itap237.jpg', 'itap113.jpg', 'itap202.jpg', 'itap195.jpg', 'dbf144.jpg', 'itap186.jpg', 'wyac128.jpg', 'itap226.jpg', 'itap369.jpg', 'rstai261.jpg', 'rstai201.jpg', 'dbf367.jpg', 'itap132.jpg', 'itap247.jpg', 'itap141.jpg', 'dbf146.jpg', 'dbf181.jpg', 'dbf173.jpg', 'dbf167.jpg', 'itap100.jpg', 'dbf217.jpg', 'rstai231.jpg', 'sp33.jpg', 'dbf225.jpg', 'dbf72.jpg', 'rstai115.jpg', 'dbf416.jpg', 'rstai54.jpg', 'dbf19.jpg', 'rstai154.jpg', 'rstai119.jpg', 'itap36.jpg', 'wyac155.jpg', 'dbf407.jpg', 'dbf300.jpg', 'sp115.jpg', 'wyac145.jpg', 'rstai2.jpg', 'rstai7.jpg', 'dbf458.jpg', 'dbf326.jpg', 'itap189.jpg', 'itap107.jpg', 'itap289.jpg', 'itap63.jpg', 'dbf21.jpg', 'wyac48.jpg', 'rstai124.jpg', 'rstai91.jpg', 'cmm120.jpg', 'itap266.jpg', 'itap15.jpg', 'rstai146.jpg', 'wyac105.jpg', 'itap71.jpg', 'itap23.jpg', 'rstai272.jpg', 'wyac55.jpg', 'wyac80.jpg', 'sp84.jpg', 'dbf256.jpg', 'wyac173.jpg', 'itap5.jpg', 'cmm155.jpg', 'rstai28.jpg', 'dbf266.jpg', 'dbf262.jpg', 'dbf78.jpg', 'itap70.jpg', 'itap242.jpg', 'dbf408.jpg', 'cmm33.jpg', 'rstai120.jpg', 'dbf178.jpg', 'dbf63.jpg', 'cmm56.jpg', 'sp94.jpg', 'rstai280.jpg', 'rstai144.jpg', 'itap257.jpg', 'itap280.jpg', 'rstai164.jpg', 'itap361.jpg', 'cmm134.jpg', 'dbf110.jpg', 'wyac115.jpg', 'dbf191.jpg', 'wyac178.jpg', 'dbf336.jpg', 'itap125.jpg', 'dbf154.jpg', 'cmm119.jpg', 'rstai51.jpg', 'dbf30.jpg', 'wyac89.jpg', 'rstai56.jpg', 'cmm18.jpg', 'rstai102.jpg', 'dbf114.jpg', 'dbf18.jpg', 'dbf90.jpg', 'dbf64.jpg', 'dbf54.jpg', 'itap44.jpg', 'rstai127.jpg', 'itap217.jpg', 'cmm146.jpg', 'itap209.jpg', 'cmm138.jpg', 'itap99.jpg', 'wyac42.jpg', 'itap89.jpg', 'rstai114.jpg', 'cmm114.jpg', 'cmm53.jpg', 'dbf210.jpg', 'dbf309.jpg', 'dbf319.jpg', 'itap159.jpg', 'itap275.jpg', 'cmm133.jpg', 'itap187.jpg', 'dbf185.jpg', 'rstai159.jpg', 'cmm89.jpg', 'dbf94.jpg', 'itap205.jpg', 'itap229.jpg', 'dbf298.jpg', 'dbf261.jpg', 'sp109.jpg', 'rstai212.jpg', 'rstai112.jpg', 'dbf53.jpg', 'dbf409.jpg', 'itap181.jpg', 'dbf394.jpg', 'dbf118.jpg', 'itap40.jpg', 'wyac2.jpg', 'rstai150.jpg', 'wyac170.jpg', 'dbf5.jpg', 'itap270.jpg', 'rstai283.jpg', 'itap278.jpg', 'wyac109.jpg', 'dbf126.jpg', 'dbf123.jpg', 'itap281.jpg', 'rstai262.jpg', 'dbf86.jpg', 'dbf12.jpg', 'itap1.jpg', 'itap332.jpg', 'itap246.jpg', 'dbf432.jpg', 'itap340.jpg', 'cmm31.jpg', 'dbf459.jpg', 'itap112.jpg', 'wyac23.jpg', 'itap309.jpg', 'dbf415.jpg', 'wyac14.jpg', 'cmm104.jpg', 'itap84.jpg', 'itap183.jpg', 'sp16.jpg', 'rstai248.jpg', 'wyac56.jpg', 'cmm142.jpg', 'cmm150.jpg', 'rstai223.jpg', 'sp108.jpg', 'itap279.jpg', 'rstai215.jpg', 'wyac101.jpg', 'itap287.jpg', 'rstai236.jpg', 'sp17.jpg', 'cmm72.jpg', 'rstai149.jpg', 'sp126.jpg', 'itap168.jpg', 'cmm113.jpg', 'rstai84.jpg', 'cmm30.jpg', 'wyac147.jpg', 'dbf116.jpg', 'itap43.jpg', 'rstai34.jpg', 'rstai161.jpg', 'dbf423.jpg', 'wyac160.jpg', 'cmm132.jpg', 'dbf308.jpg', 'cmm25.jpg', 'itap192.jpg', 'dbf412.jpg', 'wyac157.jpg', 'wyac149.jpg', 'itap345.jpg', 'dbf278.jpg', 'itap236.jpg', 'dbf69.jpg', 'wyac75.jpg', 'itap133.jpg', 'wyac88.jpg', 'dbf193.jpg', 'cmm137.jpg', 'rstai133.jpg', 'dbf296.jpg', 'cmm20.jpg', 'dbf341.jpg', 'dbf22.jpg', 'dbf419.jpg', 'rstai230.jpg', 'rstai190.jpg', 'rstai148.jpg', 'itap362.jpg', 'dbf343.jpg', 'dbf68.jpg', 'sp92.jpg', 'dbf297.jpg', 'dbf26.jpg', 'itap137.jpg', 'dbf42.jpg', 'dbf324.jpg', 'sp71.jpg', 'sp4.jpg', 'itap328.jpg', 'itap34.jpg', 'cmm74.jpg', 'cmm76.jpg', 'rstai78.jpg', 'wyac15.jpg', 'sp99.jpg', 'wyac73.jpg', 'wyac93.jpg', 'wyac71.jpg', 'wyac118.jpg', 'itap334.jpg', 'itap324.jpg', 'dbf11.jpg', 'cmm1.jpg', 'dbf1.jpg', 'cmm57.jpg', 'dbf292.jpg', 'itap338.jpg', 'itap149.jpg', 'wyac150.jpg', 'dbf103.jpg', 'itap350.jpg', 'itap284.jpg', 'dbf327.jpg', 'itap344.jpg', 'sp41.jpg', 'dbf234.jpg', 'rstai25.jpg', 'itap263.jpg', 'wyac29.jpg', 'itap256.jpg', 'itap73.jpg', 'sp39.jpg', 'dbf28.jpg', 'dbf221.jpg', 'dbf452.jpg', 'dbf366.jpg', 'rstai275.jpg', 'sp45.jpg', 'wyac53.jpg', 'itap114.jpg', 'cmm69.jpg', 'dbf0.jpg', 'dbf155.jpg', 'dbf182.jpg', 'dbf228.jpg', 'itap139.jpg', 'itap39.jpg', 'dbf209.jpg', 'sp37.jpg', 'sp79.jpg', 'rstai202.jpg', 'itap188.jpg', 'sp42.jpg', 'dbf456.jpg', 'itap214.jpg', 'itap307.jpg', 'rstai234.jpg', 'wyac121.jpg', 'wyac137.jpg', 'itap62.jpg', 'rstai72.jpg', 'dbf260.jpg', 'dbf342.jpg', 'itap3.jpg', 'rstai79.jpg', 'cmm82.jpg', 'dbf470.jpg', 'rstai152.jpg', 'itap37.jpg', 'rstai244.jpg', 'wyac5.jpg', 'rstai125.jpg', 'rstai38.jpg', 'itap35.jpg', 'rstai153.jpg', 'rstai116.jpg', 'itap146.jpg', 'rstai171.jpg', 'rstai165.jpg', 'itap235.jpg', 'dbf130.jpg', 'dbf239.jpg', 'itap79.jpg', 'sp18.jpg', 'dbf199.jpg', 'rstai281.jpg', 'sp117.jpg', 'cmm87.jpg', 'dbf98.jpg', 'itap272.jpg', 'cmm16.jpg', 'dbf282.jpg', 'itap268.jpg', 'dbf172.jpg', 'itap38.jpg', 'dbf340.jpg', 'rstai233.jpg', 'rstai270.jpg', 'itap358.jpg', 'dbf315.jpg', 'rstai177.jpg', 'itap182.jpg', 'itap299.jpg', 'dbf128.jpg', 'sp44.jpg', 'itap295.jpg', 'sp119.jpg', 'dbf270.jpg', 'itap161.jpg', 'dbf397.jpg', 'sp49.jpg', 'sp65.jpg', 'rstai100.jpg', 'rstai81.jpg', 'dbf463.jpg', 'itap199.jpg', 'itap346.jpg', 'dbf24.jpg', 'itap206.jpg', 'wyac116.jpg', 'sp83.jpg', 'itap232.jpg', 'itap213.jpg', 'rstai224.jpg', 'rstai109.jpg', 'itap7.jpg', 'itap341.jpg', 'itap310.jpg', 'rstai59.jpg', 'itap306.jpg', 'dbf115.jpg', 'rstai214.jpg', 'sp30.jpg', 'itap320.jpg', 'itap366.jpg', 'cmm65.jpg', 'dbf253.jpg', 'dbf440.jpg', 'dbf3.jpg', 'wyac132.jpg', 'rstai209.jpg', 'sp60.jpg', 'dbf113.jpg', 'sp38.jpg', 'rstai147.jpg', 'itap271.jpg', 'cmm6.jpg', 'dbf428.jpg', 'sp7.jpg', 'wyac87.jpg', 'rstai195.jpg', 'rstai142.jpg', 'rstai198.jpg', 'itap355.jpg', 'dbf195.jpg', 'dbf460.jpg', 'rstai97.jpg', 'dbf175.jpg', 'itap238.jpg', 'itap51.jpg', 'rstai143.jpg', 'wyac127.jpg', 'wyac6.jpg', 'itap49.jpg', 'dbf411.jpg', 'sp122.jpg', 'itap119.jpg', 'rstai183.jpg', 'itap342.jpg', 'cmm68.jpg', 'itap283.jpg', 'dbf444.jpg', 'wyac59.jpg', 'itap80.jpg', 'wyac166.jpg', 'dbf4.jpg', 'sp14.jpg', 'itap194.jpg', 'rstai252.jpg', 'wyac153.jpg', 'wyac24.jpg', 'dbf117.jpg', 'rstai82.jpg', 'dbf183.jpg', 'dbf314.jpg', 'itap61.jpg', 'wyac103.jpg', 'cmm127.jpg', 'wyac60.jpg', 'itap128.jpg', 'rstai237.jpg', 'itap127.jpg', 'rstai256.jpg', 'sp10.jpg', 'cmm143.jpg', 'itap212.jpg', 'dbf399.jpg', 'wyac146.jpg', 'wyac77.jpg', 'dbf50.jpg', 'dbf150.jpg', 'dbf119.jpg', 'dbf383.jpg', 'dbf331.jpg', 'cmm79.jpg', 'rstai30.jpg', 'sp130.jpg', 'rstai222.jpg', 'itap131.jpg', 'itap118.jpg', 'wyac22.jpg', 'rstai166.jpg', 'dbf231.jpg', 'itap83.jpg', 'dbf112.jpg', 'dbf80.jpg', 'wyac30.jpg', 'cmm28.jpg', 'sp50.jpg', 'sp23.jpg', 'itap253.jpg', 'sp87.jpg', 'dbf468.jpg', 'itap16.jpg', 'itap364.jpg', 'cmm39.jpg', 'rstai105.jpg', 'cmm154.jpg', 'rstai11.jpg', 'dbf257.jpg', 'itap116.jpg', 'cmm123.jpg', 'rstai254.jpg', 'wyac169.jpg', 'rstai60.jpg', 'itap97.jpg', 'dbf226.jpg', 'rstai157.jpg', 'itap175.jpg', 'dbf190.jpg', 'itap336.jpg', 'rstai243.jpg', 'dbf44.jpg', 'cmm98.jpg', 'itap170.jpg', 'itap208.jpg', 'itap319.jpg', 'wyac91.jpg', 'itap115.jpg', 'rstai210.jpg', 'dbf216.jpg', 'cmm52.jpg', 'rstai229.jpg', 'dbf15.jpg', 'rstai6.jpg', 'dbf127.jpg', 'rstai227.jpg', 'itap173.jpg', 'itap265.jpg', 'dbf313.jpg', 'dbf92.jpg', 'dbf360.jpg', 'rstai126.jpg', 'dbf334.jpg', 'sp82.jpg', 'dbf104.jpg', 'sp91.jpg', 'dbf447.jpg', 'dbf418.jpg', 'rstai140.jpg', 'dbf147.jpg', 'sp66.jpg', 'rstai192.jpg', 'dbf99.jpg', 'rstai204.jpg', 'itap25.jpg', 'dbf134.jpg', 'itap110.jpg', 'cmm29.jpg', 'sp96.jpg', 'wyac154.jpg', 'rstai64.jpg', 'wyac51.jpg', 'wyac82.jpg', 'cmm99.jpg', 'sp114.jpg', 'wyac135.jpg', 'itap165.jpg', 'cmm49.jpg', 'dbf386.jpg', 'wyac17.jpg', 'itap46.jpg', 'cmm129.jpg', 'dbf197.jpg', 'rstai80.jpg', 'itap245.jpg', 'sp53.jpg', 'itap224.jpg', 'rstai273.jpg', 'dbf161.jpg', 'dbf120.jpg', 'wyac92.jpg', 'itap259.jpg', 'sp27.jpg', 'wyac76.jpg', 'itap241.jpg', 'cmm64.jpg', 'rstai257.jpg', 'itap126.jpg', 'rstai61.jpg', 'itap339.jpg', 'wyac26.jpg', 'itap33.jpg', 'dbf107.jpg', 'rstai170.jpg', 'dbf448.jpg', 'dbf465.jpg', 'itap349.jpg', 'itap286.jpg', 'rstai193.jpg', 'dbf365.jpg', 'dbf364.jpg', 'dbf290.jpg', 'cmm90.jpg', 'wyac72.jpg', 'itap228.jpg', 'rstai39.jpg', 'sp64.jpg', 'sp93.jpg', 'itap185.jpg', 'dbf29.jpg', 'cmm5.jpg', 'dbf351.jpg', 'itap121.jpg', 'cmm19.jpg', 'rstai57.jpg', 'cmm26.jpg', 'cmm126.jpg', 'itap27.jpg', 'cmm0.jpg', 'itap240.jpg', 'dbf17.jpg', 'wyac136.jpg', 'rstai24.jpg', 'itap166.jpg', 'cmm50.jpg', 'dbf280.jpg', 'cmm147.jpg', 'wyac172.jpg', 'cmm23.jpg', 'wyac165.jpg', 'dbf264.jpg', 'itap87.jpg', 'sp36.jpg', 'rstai71.jpg', 'dbf43.jpg', 'dbf109.jpg', 'itap101.jpg', 'dbf450.jpg', 'cmm35.jpg', 'cmm62.jpg', 'itap20.jpg', 'dbf177.jpg', 'wyac32.jpg', 'dbf139.jpg', 'dbf198.jpg', 'itap327.jpg', 'rstai186.jpg', 'wyac111.jpg', 'itap13.jpg', 'itap122.jpg', 'dbf211.jpg', 'dbf379.jpg', 'itap260.jpg', 'cmm128.jpg', 'dbf174.jpg', 'sp48.jpg', 'dbf73.jpg', 'dbf368.jpg', 'cmm121.jpg', 'cmm86.jpg', 'dbf71.jpg', 'wyac168.jpg', 'wyac140.jpg', 'dbf395.jpg', 'dbf236.jpg', 'itap12.jpg', 'cmm61.jpg', 'rstai21.jpg', 'dbf218.jpg', 'rstai278.jpg', 'itap277.jpg', 'rstai17.jpg', 'wyac114.jpg', 'dbf277.jpg', 'dbf171.jpg', 'dbf16.jpg', 'sp86.jpg', 'dbf145.jpg', 'itap64.jpg', 'sp13.jpg', 'dbf372.jpg', 'sp89.jpg', 'wyac142.jpg', 'rstai242.jpg', 'itap249.jpg', 'wyac3.jpg', 'wyac74.jpg', 'sp2.jpg', 'rstai167.jpg', 'dbf474.jpg', 'dbf33.jpg', 'rstai35.jpg', 'dbf332.jpg', 'wyac123.jpg', 'dbf83.jpg', 'wyac122.jpg', 'sp101.jpg', 'rstai8.jpg', 'rstai194.jpg', 'itap282.jpg', 'rstai197.jpg', 'rstai66.jpg', 'dbf235.jpg', 'sp78.jpg', 'dbf39.jpg', 'rstai160.jpg', 'rstai189.jpg', 'cmm36.jpg', 'itap95.jpg', 'cmm100.jpg', 'wyac106.jpg', 'itap244.jpg', 'itap59.jpg', 'dbf227.jpg', 'rstai282.jpg', 'dbf166.jpg', 'rstai268.jpg', 'itap218.jpg', 'wyac69.jpg', 'itap0.jpg', 'rstai203.jpg', 'itap250.jpg', 'itap216.jpg', 'rstai107.jpg', 'itap363.jpg', 'dbf245.jpg', 'sp112.jpg', 'itap274.jpg', 'dbf437.jpg', 'dbf108.jpg', 'cmm80.jpg', 'cmm17.jpg', 'dbf179.jpg', 'rstai122.jpg', 'wyac100.jpg', 'sp80.jpg', 'itap47.jpg', 'dbf61.jpg', 'dbf323.jpg', 'cmm59.jpg', 'sp24.jpg', 'dbf84.jpg', 'itap143.jpg', 'rstai53.jpg', 'rstai129.jpg', 'dbf316.jpg', 'itap221.jpg', 'itap123.jpg', 'cmm58.jpg', 'dbf129.jpg', 'itap4.jpg', 'itap147.jpg', 'dbf156.jpg', 'rstai168.jpg', 'rstai174.jpg', 'wyac171.jpg', 'rstai141.jpg', 'itap177.jpg', 'itap152.jpg', 'dbf196.jpg', 'sp127.jpg', 'itap135.jpg', 'dbf56.jpg', 'rstai37.jpg', 'rstai263.jpg', 'itap231.jpg', 'wyac126.jpg', 'wyac134.jpg', 'dbf247.jpg', 'rstai40.jpg', 'itap288.jpg', 'itap17.jpg', 'itap318.jpg', 'rstai163.jpg', 'sp3.jpg', 'dbf201.jpg', 'wyac57.jpg', 'sp40.jpg', 'sp95.jpg', 'itap30.jpg', 'wyac81.jpg', 'itap60.jpg', 'dbf417.jpg', 'dbf335.jpg', 'wyac38.jpg', 'wyac19.jpg', 'dbf387.jpg', 'itap29.jpg', 'itap55.jpg', 'dbf162.jpg', 'wyac9.jpg', 'dbf389.jpg', 'rstai5.jpg', 'wyac138.jpg', 'rstai48.jpg', 'dbf205.jpg', 'cmm152.jpg', 'rstai31.jpg', 'sp85.jpg', 'rstai0.jpg', 'rstai99.jpg', 'itap163.jpg', 'itap294.jpg', 'sp102.jpg', 'wyac175.jpg', 'cmm43.jpg', 'wyac144.jpg', 'cmm45.jpg', 'rstai22.jpg', 'cmm103.jpg', 'dbf89.jpg', 'itap337.jpg', 'dbf136.jpg', 'rstai96.jpg', 'rstai62.jpg', 'itap157.jpg', 'itap248.jpg', 'dbf401.jpg', 'cmm67.jpg', 'dbf189.jpg', 'cmm47.jpg', 'wyac95.jpg', 'dbf143.jpg', 'dbf374.jpg', 'dbf140.jpg', 'dbf378.jpg', 'itap42.jpg', 'dbf9.jpg', 'rstai101.jpg', 'wyac133.jpg', 'dbf52.jpg', 'rstai29.jpg', 'wyac125.jpg', 'rstai3.jpg', 'wyac45.jpg', 'rstai279.jpg', 'rstai134.jpg', 'dbf229.jpg', 'cmm118.jpg', 'itap11.jpg', 'dbf14.jpg', 'dbf283.jpg', 'itap301.jpg', 'dbf41.jpg', 'wyac33.jpg', 'dbf237.jpg', 'rstai135.jpg', 'dbf45.jpg', 'rstai196.jpg', 'dbf159.jpg', 'cmm2.jpg', 'itap2.jpg', 'dbf384.jpg', 'dbf160.jpg', 'itap314.jpg', 'dbf186.jpg', 'itap57.jpg', 'sp106.jpg', 'dbf328.jpg', 'itap198.jpg', 'dbf289.jpg', 'itap58.jpg', 'sp76.jpg', 'rstai12.jpg', 'itap234.jpg', 'sp22.jpg', 'cmm70.jpg', 'sp52.jpg', 'cmm153.jpg', 'sp81.jpg', 'cmm135.jpg', 'dbf354.jpg', 'dbf265.jpg', 'rstai70.jpg', 'dbf203.jpg', 'dbf322.jpg', 'wyac12.jpg', 'itap293.jpg', 'rstai83.jpg', 'itap211.jpg', 'dbf294.jpg', 'cmm14.jpg', 'dbf410.jpg', 'dbf287.jpg', 'itap252.jpg', 'itap106.jpg', 'rstai266.jpg', 'dbf413.jpg', 'itap190.jpg', 'dbf403.jpg', 'dbf344.jpg', 'itap197.jpg', 'dbf204.jpg', 'rstai68.jpg', 'itap258.jpg', 'itap357.jpg', 'wyac113.jpg', 'rstai276.jpg', 'itap191.jpg', 'wyac43.jpg', 'dbf200.jpg', 'itap151.jpg', 'dbf111.jpg', 'itap215.jpg', 'cmm96.jpg', 'sp97.jpg', 'rstai173.jpg', 'dbf273.jpg', 'dbf88.jpg', 'rstai235.jpg', 'rstai155.jpg', 'itap134.jpg', 'dbf132.jpg', 'rstai65.jpg', 'itap356.jpg', 'sp125.jpg', 'wyac119.jpg', 'rstai274.jpg', 'rstai75.jpg', 'dbf438.jpg', 'dbf276.jpg', 'itap45.jpg', 'dbf329.jpg', 'dbf60.jpg', 'sp19.jpg', 'wyac70.jpg', 'rstai239.jpg', 'itap302.jpg', 'rstai92.jpg', 'rstai216.jpg', 'rstai178.jpg', 'rstai205.jpg', 'sp128.jpg', 'dbf406.jpg', 'itap255.jpg', 'rstai264.jpg', 'itap31.jpg', 'dbf240.jpg', 'cmm110.jpg', 'wyac1.jpg', 'wyac34.jpg', 'rstai191.jpg', 'wyac49.jpg', 'itap300.jpg', 'dbf272.jpg', 'wyac98.jpg', 'sp25.jpg', 'dbf293.jpg', 'itap130.jpg', 'itap329.jpg', 'dbf302.jpg', 'dbf420.jpg', 'dbf243.jpg', 'itap90.jpg', 'dbf471.jpg', 'dbf317.jpg', 'sp51.jpg', 'cmm136.jpg', 'itap171.jpg', 'wyac21.jpg', 'dbf151.jpg', 'dbf23.jpg', 'sp74.jpg', 'itap184.jpg', 'rstai208.jpg', 'dbf170.jpg', 'dbf281.jpg', 'dbf223.jpg', 'rstai98.jpg', 'dbf358.jpg', 'rstai86.jpg', 'cmm41.jpg', 'itap167.jpg', 'itap291.jpg', 'sp88.jpg', 'wyac85.jpg', 'itap124.jpg', 'dbf202.jpg', 'rstai132.jpg', 'sp6.jpg', 'itap243.jpg', 'rstai47.jpg', 'cmm8.jpg', 'rstai211.jpg', 'dbf370.jpg', 'rstai225.jpg', 'dbf424.jpg', 'wyac143.jpg', 'sp47.jpg', 'dbf333.jpg', 'dbf425.jpg', 'dbf230.jpg', 'dbf75.jpg', 'sp90.jpg', 'dbf208.jpg', 'sp121.jpg', 'wyac139.jpg', 'rstai76.jpg', 'sp105.jpg', 'rstai85.jpg', 'dbf8.jpg', 'sp100.jpg', 'itap219.jpg', 'rstai250.jpg', 'rstai32.jpg', 'cmm37.jpg', 'wyac25.jpg', 'itap261.jpg', 'dbf320.jpg', 'rstai255.jpg', 'dbf79.jpg', 'rstai136.jpg', 'dbf49.jpg', 'itap136.jpg', 'sp107.jpg', 'itap351.jpg', 'rstai94.jpg', 'rstai226.jpg', 'sp20.jpg', 'wyac13.jpg', 'cmm148.jpg', 'rstai260.jpg', 'dbf414.jpg', 'itap148.jpg', 'rstai52.jpg', 'rstai145.jpg', 'wyac0.jpg', 'dbf57.jpg', 'itap53.jpg', 'itap354.jpg', 'itap67.jpg', 'dbf46.jpg', 'dbf157.jpg', 'cmm15.jpg', 'rstai4.jpg', 'dbf158.jpg', 'dbf59.jpg', 'wyac36.jpg', 'cmm3.jpg', 'itap207.jpg', 'cmm111.jpg', 'rstai15.jpg', 'itap81.jpg', 'wyac176.jpg', 'dbf268.jpg', 'dbf47.jpg', 'rstai46.jpg', 'wyac67.jpg', 'rstai18.jpg', 'itap326.jpg', 'dbf153.jpg', 'dbf357.jpg', 'itap203.jpg', 'rstai108.jpg', 'dbf311.jpg', 'itap312.jpg', 'itap335.jpg', 'wyac10.jpg', 'wyac86.jpg', 'dbf473.jpg', 'dbf131.jpg', 'itap227.jpg', 'dbf55.jpg', 'cmm93.jpg', 'itap370.jpg', 'rstai187.jpg', 'dbf376.jpg', 'itap290.jpg', 'dbf51.jpg', 'dbf250.jpg', 'rstai218.jpg', 'itap220.jpg', 'itap225.jpg', 'wyac4.jpg', 'dbf100.jpg', 'cmm109.jpg', 'dbf122.jpg', 'dbf213.jpg', 'itap78.jpg', 'sp34.jpg', 'dbf187.jpg', 'dbf347.jpg', 'rstai139.jpg', 'itap77.jpg', 'sp26.jpg', 'rstai184.jpg', 'dbf377.jpg', 'cmm145.jpg', 'rstai95.jpg', 'dbf106.jpg', 'itap111.jpg', 'itap193.jpg', 'sp116.jpg', 'itap86.jpg', 'dbf439.jpg', 'dbf464.jpg', 'rstai253.jpg', 'rstai228.jpg', 'rstai219.jpg', 'itap150.jpg', 'itap108.jpg', 'rstai42.jpg', 'rstai90.jpg', 'itap174.jpg', 'dbf164.jpg', 'dbf295.jpg', 'dbf267.jpg', 'itap76.jpg', 'itap18.jpg', 'cmm46.jpg', 'itap352.jpg', 'cmm40.jpg', 'cmm116.jpg', 'cmm24.jpg', 'rstai27.jpg', 'dbf352.jpg', 'dbf426.jpg', 'itap325.jpg', 'dbf67.jpg', 'cmm32.jpg', 'wyac84.jpg', 'rstai118.jpg', 'dbf148.jpg', 'itap368.jpg', 'sp104.jpg', 'dbf361.jpg', 'wyac58.jpg', 'itap14.jpg', 'rstai19.jpg', 'wyac120.jpg', 'dbf373.jpg', 'itap24.jpg', 'dbf188.jpg', 'dbf121.jpg', 'wyac61.jpg', 'itap230.jpg', 'wyac47.jpg', 'dbf233.jpg', 'itap105.jpg', 'rstai180.jpg', 'sp73.jpg', 'sp29.jpg', 'dbf214.jpg', 'dbf375.jpg', 'itap360.jpg', 'rstai131.jpg', 'wyac96.jpg', 'wyac35.jpg', 'itap145.jpg', 'dbf466.jpg', 'rstai41.jpg', 'rstai179.jpg', 'dbf65.jpg', 'itap365.jpg', 'wyac131.jpg', 'sp0.jpg', 'wyac177.jpg', 'dbf442.jpg', 'rstai137.jpg', 'itap179.jpg', 'dbf254.jpg', 'wyac151.jpg', 'sp54.jpg', 'cmm83.jpg', 'sp68.jpg', 'dbf391.jpg', 'itap156.jpg', 'rstai128.jpg', 'itap317.jpg', 'rstai241.jpg', 'itap201.jpg', 'rstai14.jpg', 'cmm85.jpg', 'itap9.jpg', 'dbf20.jpg', 'itap322.jpg', 'cmm42.jpg', 'wyac11.jpg', 'itap210.jpg', 'itap6.jpg', 'itap104.jpg', 'dbf152.jpg', 'wyac141.jpg', 'rstai206.jpg', 'cmm27.jpg', 'dbf431.jpg', 'cmm106.jpg', 'wyac66.jpg', 'itap75.jpg', 'cmm112.jpg', 'itap262.jpg', 'dbf275.jpg', 'dbf393.jpg', 'wyac90.jpg', 'dbf97.jpg', 'rstai73.jpg', 'cmm73.jpg', 'dbf124.jpg', 'dbf441.jpg', 'dbf232.jpg', 'itap298.jpg', 'dbf252.jpg', 'itap251.jpg', 'dbf436.jpg', 'sp123.jpg', 'dbf350.jpg', 'itap273.jpg', 'dbf457.jpg', 'itap91.jpg', 'dbf215.jpg', 'cmm63.jpg', 'wyac46.jpg', 'itap303.jpg', 'dbf242.jpg', 'dbf241.jpg', 'rstai36.jpg', 'dbf176.jpg', 'dbf469.jpg', 'itap66.jpg', 'itap343.jpg', 'rstai88.jpg', 'sp55.jpg', 'sp113.jpg', 'rstai50.jpg', 'dbf180.jpg', 'dbf81.jpg', 'itap68.jpg', 'rstai117.jpg', 'itap316.jpg', 'sp11.jpg', 'itap120.jpg', 'cmm95.jpg', 'dbf392.jpg', 'rstai200.jpg', 'wyac174.jpg', 'cmm34.jpg', 'dbf224.jpg', 'cmm55.jpg', 'wyac167.jpg', 'dbf363.jpg', 'itap315.jpg', 'dbf248.jpg', 'cmm10.jpg', 'cmm22.jpg', 'rstai175.jpg', 'dbf87.jpg', 'itap333.jpg', 'rstai110.jpg', 'dbf454.jpg', 'dbf446.jpg', 'rstai269.jpg', 'cmm75.jpg', 'dbf385.jpg', 'itap85.jpg', 'dbf66.jpg', 'dbf141.jpg', 'dbf271.jpg', 'dbf142.jpg', 'wyac97.jpg', 'sp46.jpg', 'wyac28.jpg', 'dbf238.jpg', 'dbf95.jpg', 'sp118.jpg', 'dbf40.jpg', 'dbf27.jpg', 'dbf306.jpg', 'rstai113.jpg', 'dbf184.jpg', 'itap276.jpg', 'cmm81.jpg', 'itap321.jpg', 'itap94.jpg', 'dbf359.jpg', 'sp61.jpg', 'dbf169.jpg', 'rstai16.jpg', 'cmm139.jpg', 'rstai207.jpg', 'itap200.jpg', 'dbf304.jpg', 'dbf77.jpg', 'sp75.jpg', 'itap353.jpg', 'dbf286.jpg', 'itap267.jpg', 'rstai123.jpg', 'itap117.jpg', 'itap103.jpg', 'itap239.jpg', 'rstai158.jpg', 'cmm140.jpg', 'itap92.jpg', 'itap164.jpg', 'dbf396.jpg', 'itap109.jpg', 'itap65.jpg', 'itap154.jpg', 'rstai213.jpg', 'dbf31.jpg', 'wyac161.jpg', 'dbf467.jpg', 'dbf427.jpg', 'itap56.jpg', 'itap19.jpg', 'dbf91.jpg', 'dbf105.jpg', 'cmm97.jpg', 'sp58.jpg', 'sp98.jpg', 'rstai45.jpg', 'dbf312.jpg', 'dbf6.jpg', 'rstai106.jpg', 'itap129.jpg', 'itap176.jpg', 'itap142.jpg', 'wyac94.jpg', 'dbf135.jpg', 'rstai43.jpg', 'rstai151.jpg', 'dbf74.jpg', 'wyac20.jpg', 'cmm149.jpg', 'dbf349.jpg', 'dbf36.jpg', 'wyac18.jpg', 'dbf445.jpg', 'cmm125.jpg', 'dbf307.jpg', 'cmm4.jpg', 'sp72.jpg', 'itap69.jpg', 'dbf219.jpg', 'sp110.jpg', 'rstai1.jpg', 'sp31.jpg', 'dbf362.jpg', 'cmm107.jpg', 'cmm101.jpg', 'dbf58.jpg', 'dbf7.jpg', 'rstai55.jpg', 'itap52.jpg', 'dbf37.jpg', 'itap254.jpg', 'dbf346.jpg', 'cmm21.jpg', 'cmm115.jpg', 'sp32.jpg', 'cmm12.jpg', 'dbf32.jpg', 'rstai185.jpg', 'itap153.jpg', 'itap74.jpg', 'cmm71.jpg', 'rstai176.jpg', 'rstai217.jpg', 'wyac158.jpg', 'dbf258.jpg', 'wyac107.jpg', 'itap72.jpg', 'rstai23.jpg', 'itap222.jpg', 'dbf345.jpg', 'dbf249.jpg', 'dbf330.jpg', 'wyac79.jpg', 'rstai69.jpg', 'itap102.jpg', 'sp67.jpg', 'cmm130.jpg', 'wyac54.jpg', 'dbf421.jpg', 'dbf212.jpg', 'dbf455.jpg', 'wyac40.jpg', 'dbf443.jpg', 'itap359.jpg', 'dbf259.jpg', 'dbf70.jpg', 'itap172.jpg', 'rstai172.jpg', 'rstai245.jpg', 'dbf310.jpg', 'dbf279.jpg', 'dbf48.jpg', 'itap158.jpg', 'dbf125.jpg', 'itap223.jpg', 'cmm122.jpg', 'dbf339.jpg', 'dbf303.jpg', 'cmm78.jpg', 'itap330.jpg', 'dbf10.jpg', 'rstai33.jpg', 'dbf274.jpg', 'dbf138.jpg', 'rstai277.jpg', 'wyac50.jpg', 'rstai265.jpg', 'wyac117.jpg', 'itap21.jpg', 'cmm94.jpg', 'dbf422.jpg', 'sp124.jpg', 'rstai103.jpg', 'dbf13.jpg', 'rstai104.jpg', 'itap196.jpg', 'cmm124.jpg', 'wyac65.jpg', 'itap41.jpg', 'dbf433.jpg', 'rstai138.jpg', 'dbf472.jpg', 'itap50.jpg', 'dbf133.jpg', 'dbf82.jpg', 'dbf325.jpg', 'sp103.jpg', 'itap138.jpg', 'dbf244.jpg', 'cmm108.jpg', 'rstai10.jpg', 'itap54.jpg', 'dbf318.jpg', 'cmm13.jpg', 'rstai111.jpg', 'dbf380.jpg', 'cmm105.jpg', 'rstai169.jpg', 'dbf220.jpg', 'sp8.jpg', 'dbf168.jpg', 'itap304.jpg', 'wyac7.jpg', 'dbf381.jpg', 'dbf137.jpg', 'wyac102.jpg', 'dbf299.jpg', 'itap10.jpg', 'rstai74.jpg', 'dbf246.jpg', 'itap88.jpg', 'wyac99.jpg', 'dbf400.jpg', 'dbf2.jpg', 'rstai156.jpg', 'dbf38.jpg', 'sp69.jpg', 'itap178.jpg', 'dbf93.jpg', 'itap331.jpg', 'cmm66.jpg', 'wyac162.jpg', 'itap204.jpg']\n[0, 0, 0, 0, 0, 0, 0, 0, 0, 0, 0, 0, 0, 0, 0, 0, 0, 0, 0, 0, 0, 0, 0, 0, 0, 0, 0, 0, 0, 0, 0, 0, 0, 0, 0, 0, 0, 0, 0, 0, 0, 0, 0, 0, 0, 0, 0, 0, 0, 0, 0, 0, 0, 0, 0, 0, 0, 0, 0, 0, 0, 0, 0, 0, 0, 0, 0, 0, 0, 0, 0, 0, 0, 0, 0, 0, 0, 0, 0, 0, 0, 0, 0, 0, 0, 0, 0, 0, 0, 0, 0, 0, 0, 0, 0, 0, 0, 0, 0, 0, 0, 0, 0, 0, 0, 0, 0, 0, 0, 0, 0, 0, 0, 0, 0, 0, 0, 0, 0, 0, 0, 0, 0, 0, 0, 0, 0, 0, 0, 0, 0, 0, 0, 0, 0, 0, 0, 0, 0, 0, 0, 0, 0, 0, 0, 0, 0, 0, 0, 0, 0, 0, 0, 0, 0, 0, 1, 1, 1, 1, 1, 1, 1, 1, 1, 1, 1, 1, 1, 1, 1, 1, 1, 1, 1, 1, 1, 1, 1, 1, 1, 1, 1, 1, 1, 1, 1, 1, 1, 1, 1, 1, 1, 1, 1, 1, 1, 1, 1, 1, 1, 1, 1, 1, 1, 1, 1, 1, 1, 1, 1, 1, 1, 1, 1, 1, 1, 1, 1, 1, 1, 1, 1, 1, 1, 1, 1, 1, 1, 1, 1, 1, 1, 1, 1, 1, 1, 1, 1, 1, 1, 1, 1, 1, 1, 1, 1, 1, 1, 1, 1, 1, 1, 1, 1, 1, 1, 1, 1, 1, 1, 1, 1, 1, 1, 1, 1, 1, 1, 1, 1, 1, 1, 1, 1, 1, 1, 1, 1, 1, 1, 1, 1, 1, 1, 1, 1, 1, 1, 1, 1, 1, 1, 1, 1, 1, 1, 1, 1, 1, 1, 1, 1, 1, 1, 1, 1, 1, 1, 1, 1, 1, 1, 1, 1, 1, 1, 1, 1, 1, 1, 1, 1, 1, 1, 1, 1, 1, 1, 1, 1, 1, 1, 1, 1, 1, 1, 1, 1, 1, 1, 1, 1, 1, 1, 1, 1, 1, 1, 1, 1, 1, 1, 1, 1, 1, 1, 1, 1, 1, 1, 1, 1, 1, 1, 1, 1, 1, 1, 1, 1, 1, 1, 1, 1, 1, 1, 1, 1, 1, 1, 1, 1, 1, 1, 1, 1, 1, 1, 1, 1, 1, 1, 1, 1, 1, 1, 1, 1, 1, 1, 1, 1, 1, 1, 1, 1, 1, 1, 1, 1, 1, 1, 1, 1, 1, 1, 1, 1, 1, 1, 1, 1, 1, 1, 1, 1, 1, 1, 1, 1, 1, 1, 1, 1, 1, 1, 1, 1, 1, 1, 1, 1, 1, 1, 1, 1, 1, 1, 1, 1, 1, 1, 1, 1, 1, 1, 1, 1, 1, 1, 1, 1, 1, 1, 1, 1, 1, 1, 1, 1, 1, 1, 1, 1, 1, 1, 1, 1, 1, 1, 1, 1, 1, 1, 1, 1, 1, 1, 1, 1, 1, 1, 1, 1, 1, 1, 1, 1, 1, 1, 1, 1, 1, 1, 1, 1, 1, 1, 1, 1, 1, 1, 1, 1, 1, 1, 1, 1, 1, 1, 1, 1, 1, 1, 1, 1, 1, 1, 1, 1, 1, 1, 1, 1, 1, 1, 1, 1, 1, 1, 1, 1, 1, 1, 1, 1, 1, 1, 1, 1, 1, 1, 1, 1, 1, 1, 1, 1, 1, 1, 1, 1, 1, 1, 1, 1, 1, 1, 1, 1, 1, 1, 1, 1, 1, 1, 1, 1, 1, 1, 1, 1, 1, 1, 1, 1, 1, 1, 1, 1, 1, 1, 1, 1, 1, 1, 1, 1, 1, 1, 1, 1, 1, 1, 1, 1, 1, 1, 1, 1, 1, 1, 1, 1, 1, 1, 1, 1, 1, 1, 1, 1, 1, 1, 1, 1, 1, 1, 1, 1, 2, 2, 2, 2, 2, 2, 2, 2, 2, 2, 2, 2, 2, 2, 2, 2, 2, 2, 2, 2, 2, 2, 2, 2, 2, 2, 2, 2, 2, 2, 2, 2, 2, 2, 2, 2, 2, 2, 2, 2, 2, 2, 2, 2, 2, 2, 2, 2, 2, 2, 2, 2, 2, 2, 2, 2, 2, 2, 2, 2, 2, 2, 2, 2, 2, 2, 2, 2, 2, 2, 2, 2, 2, 2, 2, 2, 2, 2, 2, 2, 2, 2, 2, 2, 2, 2, 2, 2, 2, 2, 2, 2, 2, 2, 2, 2, 2, 2, 2, 2, 2, 2, 2, 2, 2, 2, 2, 2, 2, 2, 2, 2, 2, 2, 2, 2, 2, 2, 2, 2, 2, 2, 2, 2, 2, 2, 2, 2, 2, 2, 2, 2, 2, 2, 2, 2, 2, 2, 2, 2, 2, 2, 2, 2, 2, 2, 2, 2, 2, 2, 2, 2, 2, 2, 2, 2, 2, 2, 2, 2, 2, 2, 2, 2, 2, 2, 2, 2, 2, 2, 2, 2, 2, 2, 2, 2, 2, 2, 2, 2, 2, 2, 2, 2, 2, 2, 2, 2, 2, 2, 2, 2, 2, 2, 2, 2, 2, 2, 2, 2, 2, 2, 2, 2, 2, 2, 2, 2, 2, 2, 2, 2, 2, 2, 2, 2, 2, 2, 2, 2, 2, 2, 2, 2, 2, 2, 2, 2, 2, 2, 2, 2, 2, 2, 2, 2, 2, 2, 2, 2, 2, 2, 2, 2, 2, 2, 2, 2, 2, 2, 2, 2, 2, 2, 2, 2, 2, 2, 2, 2, 2, 2, 2, 2, 2, 2, 2, 2, 2, 2, 2, 2, 2, 2, 2, 2, 2, 2, 2, 2, 2, 2, 2, 2, 2, 2, 2, 2, 2, 2, 2, 2, 2, 2, 2, 2, 2, 2, 2, 2, 2, 2, 2, 2, 2, 2, 2, 2, 2, 2, 2, 2, 2, 2, 2, 2, 2, 2, 2, 2, 2, 2, 2, 2, 2, 2, 2, 2, 2, 2, 2, 2, 2, 2, 2, 2, 2, 2, 2, 2, 2, 2, 2, 2, 2, 2, 2, 2, 2, 2, 2, 2, 2, 2, 2, 2, 2, 2, 2, 2, 2, 2, 2, 2, 2, 2, 2, 2, 2, 2, 2, 3, 3, 3, 3, 3, 3, 3, 3, 3, 3, 3, 3, 3, 3, 3, 3, 3, 3, 3, 3, 3, 3, 3, 3, 3, 3, 3, 3, 3, 3, 3, 3, 3, 3, 3, 3, 3, 3, 3, 3, 3, 3, 3, 3, 3, 3, 3, 3, 3, 3, 3, 3, 3, 3, 3, 3, 3, 3, 3, 3, 3, 3, 3, 3, 3, 3, 3, 3, 3, 3, 3, 3, 3, 3, 3, 3, 3, 3, 3, 3, 3, 3, 3, 3, 3, 3, 3, 3, 3, 3, 3, 3, 3, 3, 3, 3, 3, 3, 3, 3, 3, 3, 3, 3, 3, 3, 3, 3, 3, 3, 3, 3, 3, 3, 3, 3, 3, 3, 3, 3, 3, 3, 3, 3, 3, 3, 3, 3, 3, 3, 3, 3, 3, 3, 3, 3, 3, 3, 3, 3, 3, 3, 3, 3, 3, 3, 3, 3, 3, 3, 3, 3, 3, 3, 3, 3, 3, 3, 3, 3, 3, 3, 3, 3, 3, 3, 3, 3, 3, 3, 3, 3, 3, 3, 3, 3, 3, 3, 3, 3, 3, 3, 3, 3, 3, 3, 3, 3, 3, 3, 3, 3, 3, 3, 3, 3, 3, 3, 3, 3, 3, 3, 3, 3, 3, 3, 3, 3, 3, 3, 3, 3, 3, 3, 3, 3, 3, 3, 3, 3, 3, 3, 3, 3, 3, 3, 3, 3, 3, 3, 3, 3, 3, 3, 3, 3, 3, 3, 3, 3, 3, 3, 3, 3, 3, 3, 3, 3, 3, 3, 3, 3, 3, 3, 3, 3, 3, 3, 3, 3, 3, 3, 3, 3, 3, 3, 3, 3, 3, 3, 3, 3, 3, 3, 3, 3, 3, 3, 3, 3, 3, 3, 3, 3, 3, 4, 4, 4, 4, 4, 4, 4, 4, 4, 4, 4, 4, 4, 4, 4, 4, 4, 4, 4, 4, 4, 4, 4, 4, 4, 4, 4, 4, 4, 4, 4, 4, 4, 4, 4, 4, 4, 4, 4, 4, 4, 4, 4, 4, 4, 4, 4, 4, 4, 4, 4, 4, 4, 4, 4, 4, 4, 4, 4, 4, 4, 4, 4, 4, 4, 4, 4, 4, 4, 4, 4, 4, 4, 4, 4, 4, 4, 4, 4, 4, 4, 4, 4, 4, 4, 4, 4, 4, 4, 4, 4, 4, 4, 4, 4, 4, 4, 4, 4, 4, 4, 4, 4, 4, 4, 4, 4, 4, 4, 4, 4, 4, 4, 4, 4, 4, 4, 4, 4, 4, 4, 4, 4, 4, 4, 4, 4, 4, 4, 4, 4, 5, 5, 5, 5, 5, 5, 5, 5, 5, 5, 5, 5, 5, 5, 5, 5, 5, 5, 5, 5, 5, 5, 5, 5, 5, 5, 5, 5, 5, 5, 5, 5, 5, 5, 5, 5, 5, 5, 5, 5, 5, 5, 5, 5, 5, 5, 5, 5, 5, 5, 5, 5, 5, 5, 5, 5, 5, 5, 5, 5, 5, 5, 5, 5, 5, 5, 5, 5, 5, 5, 5, 5, 5, 5, 5, 5, 5, 5, 5, 5, 5, 5, 5, 5, 5, 5, 5, 5, 5, 5, 5, 5, 5, 5, 5, 5, 5, 5, 5, 5, 5, 5, 5, 5, 5, 5, 5, 5, 5, 5, 5, 5, 5, 5, 5, 5, 5, 5, 5, 5, 5, 5, 5, 5, 5, 5, 5, 5, 5, 5, 5, 5, 5, 5, 5, 5, 5, 5, 5, 5, 5, 5, 5, 5, 5, 5, 5, 5, 5, 5, 5, 5, 5, 5, 5, 5, 5, 5, 5, 5, 5, 5, 5, 5, 5, 5, 5, 5, 5, 5, 5, 5, 5, 5, 5, 5, 5, 5, 5, 5]\ndone making 2 lists\n"
     ],
     "output_type": "stream"
    }
   ],
   "source": [
    "import tensorflow as tf\n",
    "from tensorflow import keras\n",
    "import os\n",
    "\n",
    "# parse through the folder through every file\n",
    "\n",
    "path = '/home/greco/Documents/Memev2/Alltests'\n",
    "x = [0] * 1598\n",
    "i = 0\n",
    "j = 0\n",
    "y = [0] * 1598\n",
    "for filename in os.listdir(path):\n",
    "    x[j] = filename\n",
    "    j += 1\n",
    "    \n",
    "while i <= len(x):\n",
    "    if i <= 155:\n",
    "        y[i] = 0\n",
    "        i += 1\n",
    "    elif 156 <= i <= 630:\n",
    "        y[i] = 1\n",
    "        i += 1\n",
    "    elif 631 <= i <= 1001:\n",
    "        y[i] = 2\n",
    "        i += 1\n",
    "    elif 1002 <= i <= 1286:\n",
    "        y[i] = 3\n",
    "        i += 1\n",
    "    elif 1287 <= i <= 1417:\n",
    "        y[i] = 4\n",
    "        i += 1\n",
    "    elif 1418 <= i <= 1597:\n",
    "        y[i] = 5\n",
    "        i += 1\n",
    "    else:\n",
    "        break\n",
    "print(x)\n",
    "print(y)\n",
    "print(\"done making 2 lists\")\n",
    "    "
   ]
  },
  {
   "cell_type": "code",
   "execution_count": 13,
   "outputs": [],
   "source": [
    "import numpy as np\n",
    "import matplotlib.pyplot as plt\n",
    "from skimage import data\n",
    "from PIL import Image"
   ],
   "metadata": {
    "collapsed": false,
    "pycharm": {
     "name": "#%%\n",
     "is_executing": false
    }
   }
  },
  {
   "cell_type": "code",
   "execution_count": 14,
   "outputs": [
    {
     "name": "stdout",
     "text": [
      "2.1.0\n"
     ],
     "output_type": "stream"
    }
   ],
   "source": [
    "print(tf.__version__)\n",
    "\n",
    "\n",
    "# Make this recursive and go through every image\n",
    "im = Image.open('/home/greco/Documents/Memev2/Alltests/cmm7.jpg')"
   ],
   "metadata": {
    "collapsed": false,
    "pycharm": {
     "name": "#%%\n",
     "is_executing": false
    }
   }
  },
  {
   "cell_type": "code",
   "execution_count": 15,
   "outputs": [
    {
     "name": "stderr",
     "text": [
      "/home/greco/.local/lib/python3.7/site-packages/ipykernel_launcher.py:2: UserWarning: This function is deprecated and will be removed in 0.18. Use `skimage.io.load` or `imageio.imread` directly.\n  \n"
     ],
     "output_type": "stream"
    },
    {
     "traceback": [
      "\u001b[0;31m---------------------------------------------------------------------------\u001b[0m",
      "\u001b[0;31mIsADirectoryError\u001b[0m                         Traceback (most recent call last)",
      "\u001b[0;32m<ipython-input-15-7514bbd140c1>\u001b[0m in \u001b[0;36m<module>\u001b[0;34m\u001b[0m\n\u001b[1;32m      1\u001b[0m \u001b[0;32mwhile\u001b[0m \u001b[0;32mnot\u001b[0m \u001b[0;32mNone\u001b[0m\u001b[0;34m:\u001b[0m\u001b[0;34m\u001b[0m\u001b[0;34m\u001b[0m\u001b[0m\n\u001b[0;32m----> 2\u001b[0;31m     \u001b[0mDATASET\u001b[0m \u001b[0;34m=\u001b[0m \u001b[0mdata\u001b[0m\u001b[0;34m.\u001b[0m\u001b[0mload\u001b[0m\u001b[0;34m(\u001b[0m\u001b[0;34m'/home/greco/Documents/Memev2/Alltests'\u001b[0m\u001b[0;34m)\u001b[0m\u001b[0;34m\u001b[0m\u001b[0;34m\u001b[0m\u001b[0m\n\u001b[0m\u001b[1;32m      3\u001b[0m     \u001b[0mtype\u001b[0m\u001b[0;34m(\u001b[0m\u001b[0mDATASET\u001b[0m\u001b[0;34m)\u001b[0m\u001b[0;34m\u001b[0m\u001b[0;34m\u001b[0m\u001b[0m\n\u001b[1;32m      4\u001b[0m \u001b[0;31m# inp = DATASET(shape=(3,None,None))\u001b[0m\u001b[0;34m\u001b[0m\u001b[0;34m\u001b[0m\u001b[0;34m\u001b[0m\u001b[0m\n\u001b[1;32m      5\u001b[0m \u001b[0;34m\u001b[0m\u001b[0m\n",
      "\u001b[0;32m/usr/local/lib64/python3.7/site-packages/skimage/data/__init__.py\u001b[0m in \u001b[0;36mload\u001b[0;34m(f, as_gray)\u001b[0m\n\u001b[1;32m     73\u001b[0m          \u001b[0;34m'Use `skimage.io.load` or `imageio.imread` directly.'\u001b[0m\u001b[0;34m,\u001b[0m\u001b[0;34m\u001b[0m\u001b[0;34m\u001b[0m\u001b[0m\n\u001b[1;32m     74\u001b[0m          stacklevel=2)\n\u001b[0;32m---> 75\u001b[0;31m     \u001b[0;32mreturn\u001b[0m \u001b[0m_load\u001b[0m\u001b[0;34m(\u001b[0m\u001b[0mf\u001b[0m\u001b[0;34m,\u001b[0m \u001b[0mas_gray\u001b[0m\u001b[0;34m=\u001b[0m\u001b[0mas_gray\u001b[0m\u001b[0;34m)\u001b[0m\u001b[0;34m\u001b[0m\u001b[0;34m\u001b[0m\u001b[0m\n\u001b[0m\u001b[1;32m     76\u001b[0m \u001b[0;34m\u001b[0m\u001b[0m\n\u001b[1;32m     77\u001b[0m \u001b[0;34m\u001b[0m\u001b[0m\n",
      "\u001b[0;32m/usr/local/lib64/python3.7/site-packages/skimage/data/__init__.py\u001b[0m in \u001b[0;36m_load\u001b[0;34m(f, as_gray)\u001b[0m\n\u001b[1;32m     94\u001b[0m     \u001b[0;31m# we lazy import it here\u001b[0m\u001b[0;34m\u001b[0m\u001b[0;34m\u001b[0m\u001b[0;34m\u001b[0m\u001b[0m\n\u001b[1;32m     95\u001b[0m     \u001b[0;32mfrom\u001b[0m \u001b[0;34m.\u001b[0m\u001b[0;34m.\u001b[0m\u001b[0mio\u001b[0m \u001b[0;32mimport\u001b[0m \u001b[0mimread\u001b[0m\u001b[0;34m\u001b[0m\u001b[0;34m\u001b[0m\u001b[0m\n\u001b[0;32m---> 96\u001b[0;31m     \u001b[0;32mreturn\u001b[0m \u001b[0mimread\u001b[0m\u001b[0;34m(\u001b[0m\u001b[0m_os\u001b[0m\u001b[0;34m.\u001b[0m\u001b[0mpath\u001b[0m\u001b[0;34m.\u001b[0m\u001b[0mjoin\u001b[0m\u001b[0;34m(\u001b[0m\u001b[0mdata_dir\u001b[0m\u001b[0;34m,\u001b[0m \u001b[0mf\u001b[0m\u001b[0;34m)\u001b[0m\u001b[0;34m,\u001b[0m \u001b[0mplugin\u001b[0m\u001b[0;34m=\u001b[0m\u001b[0;34m'pil'\u001b[0m\u001b[0;34m,\u001b[0m \u001b[0mas_gray\u001b[0m\u001b[0;34m=\u001b[0m\u001b[0mas_gray\u001b[0m\u001b[0;34m)\u001b[0m\u001b[0;34m\u001b[0m\u001b[0;34m\u001b[0m\u001b[0m\n\u001b[0m\u001b[1;32m     97\u001b[0m \u001b[0;34m\u001b[0m\u001b[0m\n\u001b[1;32m     98\u001b[0m \u001b[0;34m\u001b[0m\u001b[0m\n",
      "\u001b[0;32m/usr/local/lib64/python3.7/site-packages/skimage/io/_io.py\u001b[0m in \u001b[0;36mimread\u001b[0;34m(fname, as_gray, plugin, **plugin_args)\u001b[0m\n\u001b[1;32m     46\u001b[0m \u001b[0;34m\u001b[0m\u001b[0m\n\u001b[1;32m     47\u001b[0m     \u001b[0;32mwith\u001b[0m \u001b[0mfile_or_url_context\u001b[0m\u001b[0;34m(\u001b[0m\u001b[0mfname\u001b[0m\u001b[0;34m)\u001b[0m \u001b[0;32mas\u001b[0m \u001b[0mfname\u001b[0m\u001b[0;34m:\u001b[0m\u001b[0;34m\u001b[0m\u001b[0;34m\u001b[0m\u001b[0m\n\u001b[0;32m---> 48\u001b[0;31m         \u001b[0mimg\u001b[0m \u001b[0;34m=\u001b[0m \u001b[0mcall_plugin\u001b[0m\u001b[0;34m(\u001b[0m\u001b[0;34m'imread'\u001b[0m\u001b[0;34m,\u001b[0m \u001b[0mfname\u001b[0m\u001b[0;34m,\u001b[0m \u001b[0mplugin\u001b[0m\u001b[0;34m=\u001b[0m\u001b[0mplugin\u001b[0m\u001b[0;34m,\u001b[0m \u001b[0;34m**\u001b[0m\u001b[0mplugin_args\u001b[0m\u001b[0;34m)\u001b[0m\u001b[0;34m\u001b[0m\u001b[0;34m\u001b[0m\u001b[0m\n\u001b[0m\u001b[1;32m     49\u001b[0m \u001b[0;34m\u001b[0m\u001b[0m\n\u001b[1;32m     50\u001b[0m     \u001b[0;32mif\u001b[0m \u001b[0;32mnot\u001b[0m \u001b[0mhasattr\u001b[0m\u001b[0;34m(\u001b[0m\u001b[0mimg\u001b[0m\u001b[0;34m,\u001b[0m \u001b[0;34m'ndim'\u001b[0m\u001b[0;34m)\u001b[0m\u001b[0;34m:\u001b[0m\u001b[0;34m\u001b[0m\u001b[0;34m\u001b[0m\u001b[0m\n",
      "\u001b[0;32m/usr/local/lib64/python3.7/site-packages/skimage/io/manage_plugins.py\u001b[0m in \u001b[0;36mcall_plugin\u001b[0;34m(kind, *args, **kwargs)\u001b[0m\n\u001b[1;32m    208\u001b[0m                                (plugin, kind))\n\u001b[1;32m    209\u001b[0m \u001b[0;34m\u001b[0m\u001b[0m\n\u001b[0;32m--> 210\u001b[0;31m     \u001b[0;32mreturn\u001b[0m \u001b[0mfunc\u001b[0m\u001b[0;34m(\u001b[0m\u001b[0;34m*\u001b[0m\u001b[0margs\u001b[0m\u001b[0;34m,\u001b[0m \u001b[0;34m**\u001b[0m\u001b[0mkwargs\u001b[0m\u001b[0;34m)\u001b[0m\u001b[0;34m\u001b[0m\u001b[0;34m\u001b[0m\u001b[0m\n\u001b[0m\u001b[1;32m    211\u001b[0m \u001b[0;34m\u001b[0m\u001b[0m\n\u001b[1;32m    212\u001b[0m \u001b[0;34m\u001b[0m\u001b[0m\n",
      "\u001b[0;32m/usr/local/lib64/python3.7/site-packages/skimage/io/_plugins/pil_plugin.py\u001b[0m in \u001b[0;36mimread\u001b[0;34m(fname, dtype, img_num, **kwargs)\u001b[0m\n\u001b[1;32m     32\u001b[0m     \"\"\"\n\u001b[1;32m     33\u001b[0m     \u001b[0;32mif\u001b[0m \u001b[0misinstance\u001b[0m\u001b[0;34m(\u001b[0m\u001b[0mfname\u001b[0m\u001b[0;34m,\u001b[0m \u001b[0mstr\u001b[0m\u001b[0;34m)\u001b[0m\u001b[0;34m:\u001b[0m\u001b[0;34m\u001b[0m\u001b[0;34m\u001b[0m\u001b[0m\n\u001b[0;32m---> 34\u001b[0;31m         \u001b[0;32mwith\u001b[0m \u001b[0mopen\u001b[0m\u001b[0;34m(\u001b[0m\u001b[0mfname\u001b[0m\u001b[0;34m,\u001b[0m \u001b[0;34m'rb'\u001b[0m\u001b[0;34m)\u001b[0m \u001b[0;32mas\u001b[0m \u001b[0mf\u001b[0m\u001b[0;34m:\u001b[0m\u001b[0;34m\u001b[0m\u001b[0;34m\u001b[0m\u001b[0m\n\u001b[0m\u001b[1;32m     35\u001b[0m             \u001b[0mim\u001b[0m \u001b[0;34m=\u001b[0m \u001b[0mImage\u001b[0m\u001b[0;34m.\u001b[0m\u001b[0mopen\u001b[0m\u001b[0;34m(\u001b[0m\u001b[0mf\u001b[0m\u001b[0;34m)\u001b[0m\u001b[0;34m\u001b[0m\u001b[0;34m\u001b[0m\u001b[0m\n\u001b[1;32m     36\u001b[0m             \u001b[0;32mreturn\u001b[0m \u001b[0mpil_to_ndarray\u001b[0m\u001b[0;34m(\u001b[0m\u001b[0mim\u001b[0m\u001b[0;34m,\u001b[0m \u001b[0mdtype\u001b[0m\u001b[0;34m=\u001b[0m\u001b[0mdtype\u001b[0m\u001b[0;34m,\u001b[0m \u001b[0mimg_num\u001b[0m\u001b[0;34m=\u001b[0m\u001b[0mimg_num\u001b[0m\u001b[0;34m)\u001b[0m\u001b[0;34m\u001b[0m\u001b[0;34m\u001b[0m\u001b[0m\n",
      "\u001b[0;31mIsADirectoryError\u001b[0m: [Errno 21] Is a directory: '/home/greco/Documents/Memev2/Alltests'"
     ],
     "ename": "IsADirectoryError",
     "evalue": "[Errno 21] Is a directory: '/home/greco/Documents/Memev2/Alltests'",
     "output_type": "error"
    }
   ],
   "source": [
    "while not None:\n",
    "    DATASET = data.load('/home/greco/Documents/Memev2/Alltests')\n",
    "    type(DATASET)\n",
    "# inp = DATASET(shape=(3,None,None))"
   ],
   "metadata": {
    "collapsed": false,
    "pycharm": {
     "name": "#%%\n",
     "is_executing": false
    }
   }
  },
  {
   "cell_type": "code",
   "execution_count": null,
   "outputs": [],
   "source": [
    "(train_images, train_labels), (test_image, test_labels) = DATASET\n"
   ],
   "metadata": {
    "collapsed": false,
    "pycharm": {
     "name": "#%%\n",
     "is_executing": false
    }
   }
  },
  {
   "cell_type": "code",
   "execution_count": null,
   "outputs": [],
   "source": [
    "class_name = ['ChangeMM', 'DistractedBoyfriend', 'IsThatAPigeon', \n",
    "              'SuprisedPikachu', 'ThinkAboutIt', 'WomanYellingAtCat']"
   ],
   "metadata": {
    "collapsed": false,
    "pycharm": {
     "name": "#%%\n",
     "is_executing": false
    }
   }
  },
  {
   "cell_type": "code",
   "execution_count": null,
   "outputs": [],
   "source": [
    "train_images.shape"
   ],
   "metadata": {
    "collapsed": false,
    "pycharm": {
     "name": "#%%\n",
     "is_executing": false
    }
   }
  },
  {
   "cell_type": "code",
   "execution_count": null,
   "outputs": [],
   "source": [
    "len(train_lables)"
   ],
   "metadata": {
    "collapsed": false,
    "pycharm": {
     "name": "#%%\n",
     "is_executing": false
    }
   }
  },
  {
   "cell_type": "code",
   "execution_count": null,
   "outputs": [],
   "source": [
    "train_lables"
   ],
   "metadata": {
    "collapsed": false,
    "pycharm": {
     "name": "#%%\n",
     "is_executing": false
    }
   }
  },
  {
   "cell_type": "code",
   "execution_count": null,
   "outputs": [],
   "source": [
    "test_image.shape\n"
   ],
   "metadata": {
    "collapsed": false,
    "pycharm": {
     "name": "#%%\n",
     "is_executing": false
    }
   }
  },
  {
   "cell_type": "code",
   "execution_count": null,
   "outputs": [],
   "source": [
    "len(test_lables)"
   ],
   "metadata": {
    "collapsed": false,
    "pycharm": {
     "name": "#%%\n",
     "is_executing": false
    }
   }
  },
  {
   "cell_type": "code",
   "execution_count": null,
   "outputs": [],
   "source": [
    "plt.figure()\n",
    "plt.imshow(train_images[0])\n",
    "plt.colorbar()\n",
    "plt.grid(False)\n",
    "plt.show()\n"
   ],
   "metadata": {
    "collapsed": false,
    "pycharm": {
     "name": "#%%\n",
     "is_executing": false
    }
   }
  }
 ],
 "metadata": {
  "kernelspec": {
   "display_name": "Python 3",
   "language": "python",
   "name": "python3"
  },
  "language_info": {
   "codemirror_mode": {
    "name": "ipython",
    "version": 2
   },
   "file_extension": ".py",
   "mimetype": "text/x-python",
   "name": "python",
   "nbconvert_exporter": "python",
   "pygments_lexer": "ipython2",
   "version": "2.7.6"
  },
  "pycharm": {
   "stem_cell": {
    "cell_type": "raw",
    "source": [],
    "metadata": {
     "collapsed": false
    }
   }
  }
 },
 "nbformat": 4,
 "nbformat_minor": 0
}